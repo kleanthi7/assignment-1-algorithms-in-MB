{
 "cells": [
  {
   "cell_type": "markdown",
   "metadata": {},
   "source": [
    "# Assignment 1 - Algorithms in Molecular Biology\n",
    "## Kleanthi Voutsadaki - DS2190003"
   ]
  },
  {
   "cell_type": "markdown",
   "metadata": {},
   "source": [
    "- #### Exercise 1\n",
    "Implementation of FrequentWordDict function"
   ]
  },
  {
   "cell_type": "code",
   "execution_count": 1,
   "metadata": {},
   "outputs": [],
   "source": [
    "import numpy\n",
    "import itertools\n",
    "\n",
    "def GenerateKmers(k):\n",
    "    bases=['A','T','G','C']\n",
    "    kmers=[]\n",
    "    \n",
    "    for p in itertools.product(bases, repeat=k):\n",
    "        kmers.append(str(''.join(p)))\n",
    "    \n",
    "    return kmers\n",
    "    \n",
    "def DefinePattern(text,k):\n",
    "    text_length = len(text)\n",
    "    pattern=[]\n",
    "    for i in range(0, text_length-k+1):\n",
    "        pattern.append( text[i:i+k])\n",
    "        \n",
    "    return pattern\n",
    "    \n",
    "    \n",
    "    \n",
    "def PatternToNumber(text,k):\n",
    "    kmers=GenerateKmers(k)\n",
    "    a=0\n",
    "    index=[]\n",
    "    pattern=DefinePattern(text,k)\n",
    "    for i in pattern:\n",
    "        for kmer_index in range(len(kmers)):\n",
    "            if i == kmers[kmer_index]:\n",
    "                index.append(kmer_index)\n",
    "                \n",
    "        \n",
    "    return index\n",
    "      \n",
    "       \n",
    "\n",
    "def FrequentWordDict(text,k):\n",
    "    farray = []\n",
    "    constant=1\n",
    "    for i in range(4**k):\n",
    "        farray.append(0)\n",
    "        \n",
    "    \n",
    "    index=PatternToNumber(text,k)\n",
    "    kmers=GenerateKmers(k)\n",
    "    for i in index:\n",
    "        constant+=1\n",
    "        for kmers_index in range(len(kmers)):\n",
    "            constant+=1\n",
    "            if i==kmers_index:\n",
    "                farray[kmers_index]=farray[kmers_index]+1\n",
    "                \n",
    "    \n",
    "    final_array=list(zip(kmers,farray))\n",
    "    return (final_array,constant)\n",
    "        \n"
   ]
  },
  {
   "cell_type": "markdown",
   "metadata": {},
   "source": [
    "Implementation of FrequentWords function"
   ]
  },
  {
   "cell_type": "code",
   "execution_count": 2,
   "metadata": {},
   "outputs": [],
   "source": [
    "def PatternCount(text, pattern):\n",
    "    \n",
    "    count = 0;\n",
    "    pattern_length = len(pattern)\n",
    "    text_length = len(text)\n",
    "    for i in range(0, text_length-pattern_length+1):\n",
    "        \n",
    "        if (text[i:i+pattern_length]==pattern):\n",
    "            count = count + 1\n",
    "            \n",
    "        \n",
    "    return count   \n",
    "\n",
    "\n",
    "import numpy\n",
    "\n",
    "def FrequentWords(text, k):\n",
    "    #faster way to find k-mers\n",
    "   #frequent_patterns = list()\n",
    "   \n",
    "    frequent_patterns = set()\n",
    "    text_length = len(text)\n",
    "    count=numpy.zeros(text_length-k+1)\n",
    "    counter=1\n",
    "   # calcuate word frequency\n",
    "    for i in range(0, text_length-k+1):\n",
    "        counter+=1\n",
    "        \n",
    "        pattern = text[i:i+k]\n",
    "        count[i] = PatternCount(text, pattern)\n",
    "\n",
    "   # maximum frequency \n",
    "    max_count = max(count)\n",
    "    \n",
    "   # add words with max frequency to frequent_patterns\n",
    "    for i in range(0, text_length-k+1):\n",
    "        \n",
    "        \n",
    "        if (count[i]==max_count):\n",
    "            frequent_patterns.add(text[i:i+k])\n",
    "            \n",
    "         #frequent_patterns.append(text[i:i+k])\n",
    "                          \n",
    "    return(frequent_patterns,max_count,counter)\n"
   ]
  },
  {
   "cell_type": "markdown",
   "metadata": {},
   "source": [
    "Compare the performance of FrequentWordsDict and FrequentWords\n",
    "            "
   ]
  },
  {
   "cell_type": "markdown",
   "metadata": {},
   "source": [
    "Generate Random Strings"
   ]
  },
  {
   "cell_type": "code",
   "execution_count": 3,
   "metadata": {},
   "outputs": [],
   "source": [
    "#creating random DNA strings\n",
    "import random\n",
    "\n",
    "def CreateRandStr(alphabet,str_len):\n",
    "    rand_str = \"\" #create an empty string\n",
    "    chr_cnt = 0 #how many characters of the string we have determined so far\n",
    "    while chr_cnt < str_len:\n",
    "        rand_str = rand_str + alphabet[random.randint(0,len(alphabet)-1)]\n",
    "        chr_cnt = chr_cnt + 1\n",
    "    return rand_str"
   ]
  },
  {
   "cell_type": "code",
   "execution_count": 4,
   "metadata": {},
   "outputs": [],
   "source": [
    "#writing them in files\n",
    "def WriteFile(filename,l):\n",
    "    f= open(filename,\"w+\")\n",
    "    string=CreateRandStr(\"ACGT\",l)\n",
    "    f.write(str(string))\n",
    "    f.close\n",
    "    return\n",
    "WriteFile('len10.txt',10)\n",
    "WriteFile('len100.txt',100)\n",
    "WriteFile('len1000.txt',1000)\n",
    "WriteFile('len10000.txt',10000)\n"
   ]
  },
  {
   "cell_type": "code",
   "execution_count": 5,
   "metadata": {},
   "outputs": [],
   "source": [
    "#reading the random dna strings files\n",
    "def readFile(filename):\n",
    "    \n",
    "    f=open(filename,'r')\n",
    "    strings=f.read()\n",
    "    return(strings)\n",
    "\n",
    "\n"
   ]
  },
  {
   "cell_type": "code",
   "execution_count": 6,
   "metadata": {},
   "outputs": [
    {
     "name": "stdout",
     "output_type": "stream",
     "text": [
      "Frequent Words for length 10  5.572400004894007e-05 seconds\n",
      "counter: 10\n",
      "FrequentWordDict for length 10  6.228900019777939e-05 seconds\n",
      "counter: 154\n",
      "Frequent Words for length 100  0.0017006020007102052 seconds\n",
      "counter: 100\n",
      "FrequentWordDict for length 100  0.000334246000420535 seconds\n",
      "counter: 1684\n",
      "Frequent Words for length 1000  0.18209732200011786 seconds\n",
      "counter: 1000\n",
      "FrequentWordDict for length 1000  0.002849990998583962 seconds\n",
      "counter: 16984\n",
      "Frequent Words for length 10000  18.154677931999686 seconds\n",
      "counter: 10000\n",
      "FrequentWordDict for length 10000  0.02893251000023156 seconds\n",
      "counter: 169984\n"
     ]
    }
   ],
   "source": [
    "#examine the performance\n",
    "\n",
    "%matplotlib inline\n",
    "import matplotlib.pyplot as plt\n",
    "import random\n",
    "import timeit\n",
    "lens=[10,100,1000,10000]\n",
    "#times for FrequentWords\n",
    "ftimes=[]\n",
    "fcounter=[]\n",
    "#times for FrequentWordsDict \n",
    "dtimes=[]\n",
    "dcounter=[]\n",
    "for l in lens:\n",
    "    k=2\n",
    "    #Read file\n",
    "    \n",
    "    filename='len' + str(l) + '.txt'\n",
    "    dna_sample=readFile(filename)\n",
    "    start=timeit.default_timer()\n",
    "    result = FrequentWords(dna_sample,k)\n",
    "    frequent_patterns= result[0] \n",
    "    counter = result[2]\n",
    "    stop=timeit.default_timer()\n",
    "    ftimes.append(stop-start)\n",
    "    fcounter.append(counter)\n",
    "    print(\"Frequent Words for length \" +str(l)+'  ' + str(stop - start) + \" seconds\")\n",
    "    print(\"counter: \" + str(counter))\n",
    "\n",
    "    start = timeit.default_timer()\n",
    "    result = FrequentWordDict(dna_sample,k)\n",
    "    frequent_patterns= result[0]\n",
    "    counter = result[1]\n",
    "    stop=timeit.default_timer()\n",
    "    dtimes.append(stop-start)\n",
    "    dcounter.append(counter)\n",
    "    print(\"FrequentWordDict for length \"+str(l)+'  ' + str(stop - start) + \" seconds\")\n",
    "    print(\"counter: \" + str(counter))\n"
   ]
  },
  {
   "cell_type": "markdown",
   "metadata": {},
   "source": [
    "### Graphical Plot of the results:"
   ]
  },
  {
   "cell_type": "code",
   "execution_count": 8,
   "metadata": {},
   "outputs": [
    {
     "data": {
      "image/png": "[encoded data removed]",
      "text/plain": [
       "<Figure size 432x288 with 1 Axes>"
      ]
     },
     "metadata": {
      "needs_background": "light"
     },
     "output_type": "display_data"
    }
   ],
   "source": [
    "plt.xlabel('String length(bases)')\n",
    "plt.ylabel('Time(sec)')\n",
    "plt.xscale(\"log\")\n",
    "plt.yscale(\"log\")\n",
    "plt.plot(lens,ftimes,'o', color='blue')\n",
    "plt.plot(lens,dtimes,'x',color='orange')\n",
    "plt.show()"
   ]
  },
  {
   "cell_type": "markdown",
   "metadata": {},
   "source": [
    "From the above analysis we can conclude that the FrequentWordDict algorithm has a higher complexity than the FrequentWords, which is shown by the counter index. The most complex algorithm has quadratic complexity O(n^2) and the less complex has linear complexity O(n). Nevertheless, it is clear that the most complex algorithm gives very quick results(orange cross in the plot) in relation to the simple algorithm(blue bullet in the plot). As the data, which are given as input, increase there is significant difference in the performance time of the two algorithms.  "
   ]
  },
  {
   "cell_type": "markdown",
   "metadata": {},
   "source": [
    "- #### Exercise 2\n"
   ]
  },
  {
   "cell_type": "markdown",
   "metadata": {},
   "source": [
    "A way to avoid generating 4^k k-mers when finding frequent k-mers with mismatches is to generate all possible candidate solutions, that is all possible k-mers with all their possible mismatches for every k-mer. To be more specific, having one original k-mer pattern, we will substitute each base with every possible base (A,C,G,T) and generate a completely different and relative k-mer to the original one. Afterwards, we can take each generated k-mer as a slide window and search all the text, to see if it exists and count it in a score matrix. "
   ]
  },
  {
   "cell_type": "code",
   "execution_count": null,
   "metadata": {},
   "outputs": [],
   "source": []
  }
 ],
 "metadata": {
  "kernelspec": {
   "display_name": "Python 3",
   "language": "python",
   "name": "python3"
  },
  "language_info": {
   "codemirror_mode": {
    "name": "ipython",
    "version": 3
   },
   "file_extension": ".py",
   "mimetype": "text/x-python",
   "name": "python",
   "nbconvert_exporter": "python",
   "pygments_lexer": "ipython3",
   "version": "3.7.3"
  }
 },
 "nbformat": 4,
 "nbformat_minor": 2
}
